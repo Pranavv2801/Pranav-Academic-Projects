{
 "cells": [
  {
   "cell_type": "markdown",
   "id": "7a919714",
   "metadata": {},
   "source": [
    "# Forecasting Weather using Auto Regression and Moving Average model (ARIMA)"
   ]
  },
  {
   "cell_type": "markdown",
   "id": "ec22e3b4",
   "metadata": {},
   "source": [
    "## PRANAV THIAGARAJAN UMAPATHY \n",
    "## Student ID- 220366757"
   ]
  },
  {
   "cell_type": "markdown",
   "id": "27019f13",
   "metadata": {},
   "source": [
    "### Importing required packages"
   ]
  },
  {
   "cell_type": "code",
   "execution_count": null,
   "id": "7347ba21",
   "metadata": {},
   "outputs": [],
   "source": [
    "import math\n",
    "import pandas as pd\n",
    "import numpy as np\n",
    "from sklearn.model_selection import train_test_split\n",
    "import matplotlib.pyplot as plt\n",
    "import scipy.io\n",
    "import seaborn as sns\n",
    "sns.set_style(\"darkgrid\")\n",
    "from statsmodels.tsa.stattools import adfuller\n",
    "import warnings\n",
    "warnings.filterwarnings('ignore')\n",
    "from xgboost import XGBRegressor\n",
    "from math import sqrt\n",
    "from sklearn.metrics import mean_squared_error, mean_absolute_error"
   ]
  },
  {
   "cell_type": "code",
   "execution_count": null,
   "id": "55b04172",
   "metadata": {},
   "outputs": [],
   "source": [
    "#Reading the CSV file into a Pandas DataFrame\n",
    "weather_data = pd.read_csv(\"weather_dt.csv\")"
   ]
  },
  {
   "cell_type": "code",
   "execution_count": null,
   "id": "ffc9cce4",
   "metadata": {},
   "outputs": [],
   "source": [
    "weather_data.info()"
   ]
  },
  {
   "cell_type": "code",
   "execution_count": null,
   "id": "4b88c3d6",
   "metadata": {},
   "outputs": [],
   "source": [
    "#Formatting the datetime column\n",
    "weather_data[\"datetime\"] = pd.to_datetime(weather_data[\"datetime\"])"
   ]
  },
  {
   "cell_type": "code",
   "execution_count": null,
   "id": "d6a35bda",
   "metadata": {},
   "outputs": [],
   "source": [
    "#Creating a new df with windspeed and datetime column\n",
    "wind_df = weather_data[['datetime', 'windspeed']].copy()\n",
    "\n",
    "# Display the first few rows of the new DataFrame\n",
    "print(wind_df.head())"
   ]
  },
  {
   "cell_type": "code",
   "execution_count": null,
   "id": "311eb0d4",
   "metadata": {},
   "outputs": [],
   "source": [
    "#Filter the data for required period\n",
    "start_date = pd.to_datetime(\"2021-10-01\")\n",
    "end_date = pd.to_datetime(\"2023-09-30\")\n",
    "filtered_data = wind_df[(wind_df[\"datetime\"] >= start_date) & (wind_df[\"datetime\"] <= end_date)]"
   ]
  },
  {
   "cell_type": "code",
   "execution_count": null,
   "id": "ec6124e2",
   "metadata": {},
   "outputs": [],
   "source": [
    "#Convert 'datetime' column to datetime format\n",
    "filtered_data['datetime'] = pd.to_datetime(filtered_data['datetime'], format='%Y-%m-%d')\n",
    "\n",
    "#Assume 'windspeed' is the target variable\n",
    "X = filtered_data[['datetime']]\n",
    "y = filtered_data['windspeed']\n",
    "\n",
    "#Split the data into training and testing sets (80% train, 20% test)\n",
    "X_train, X_test, y_train, y_test = train_test_split(X, y, test_size=0.2, random_state=42, shuffle=False)\n",
    "\n",
    "# Sort the training and testing sets based on 'datetime'\n",
    "X_train = X_train.sort_values(by='datetime')\n",
    "y_train = y_train.loc[X_train.index]\n",
    "\n",
    "X_test = X_test.sort_values(by='datetime')\n",
    "y_test = y_test.loc[X_test.index]\n",
    "\n",
    "# Create a time series from the 'windspeed' column for both train and test sets\n",
    "train_series = pd.Series(y_train.values, index=X_train['datetime'])\n",
    "test_series = pd.Series(y_test.values, index=X_test['datetime'])"
   ]
  },
  {
   "cell_type": "markdown",
   "id": "ba174d52",
   "metadata": {},
   "source": [
    "### Forecast"
   ]
  },
  {
   "cell_type": "code",
   "execution_count": null,
   "id": "470522b8",
   "metadata": {},
   "outputs": [],
   "source": [
    "# Feature engineering: create lag features\n",
    "def create_lag_features(data, lag):\n",
    "    for i in range(1, lag + 1):\n",
    "        data[f'lag_{i}'] = data['windspeed'].shift(i)\n",
    "    return data\n",
    "\n",
    "# Choose the lag value\n",
    "lag = 5\n",
    "X_train = create_lag_features(pd.DataFrame({'windspeed': y_train}), lag).dropna()\n",
    "X_test = create_lag_features(pd.DataFrame({'windspeed': y_test}), lag).dropna()\n",
    "\n",
    "# Define features and target variable for training\n",
    "X_train_features = X_train.drop(['windspeed'], axis=1)\n",
    "y_train_features = X_train['windspeed']\n",
    "\n",
    "# Define features and target variable for testing\n",
    "X_test_features = X_test.drop(['windspeed'], axis=1)\n",
    "y_test_features = X_test['windspeed']\n",
    "\n",
    "# Initialize and fit the XGBoost model\n",
    "model = XGBRegressor(objective='reg:squarederror', n_estimators=100)\n",
    "model.fit(X_train_features, y_train_features)\n",
    "\n",
    "# Make predictions on the test set\n",
    "y_pred = model.predict(X_test_features)\n",
    "\n",
    "\n",
    "# Plot the actual vs. predicted values\n",
    "plt.figure(figsize=(12, 6))\n",
    "plt.plot(test_series.index[:len(y_test_features)], y_test_features, label='Actual', color='blue')\n",
    "plt.plot(test_series.index[:len(y_test_features)], y_pred, label='Predicted', linestyle='dashed', color='green')\n",
    "plt.title('Gradient Boost Forecasting')\n",
    "plt.xlabel('Date')\n",
    "plt.ylabel('Windspeed')\n",
    "plt.legend()\n",
    "plt.show()\n"
   ]
  },
  {
   "cell_type": "markdown",
   "id": "70998f8f",
   "metadata": {},
   "source": [
    "### Model Evaluation"
   ]
  },
  {
   "cell_type": "code",
   "execution_count": null,
   "id": "4b4e4021",
   "metadata": {},
   "outputs": [],
   "source": [
    "# Calculate RMSE\n",
    "rmse = sqrt(mean_squared_error(y_test_features, y_pred))\n",
    "print(f'Root Mean Squared Error (RMSE): {rmse}')\n",
    "\n",
    "# Calculate MSE\n",
    "mse = mean_squared_error(y_test_features, y_pred)\n",
    "print(f'Mean Squared Error (MSE): {mse}')\n",
    "\n",
    "# Calculate MAE\n",
    "mae = mean_absolute_error(y_test_features, y_pred)\n",
    "print(f'Mean Absolute Error (MAE): {mae}')"
   ]
  },
  {
   "cell_type": "code",
   "execution_count": null,
   "id": "f86f5083",
   "metadata": {},
   "outputs": [],
   "source": []
  },
  {
   "cell_type": "markdown",
   "id": "c007ac45",
   "metadata": {},
   "source": [
    "# Gradient boosting method\n",
    "\n",
    "Split the dataset into features (X) and the target variable (y).\n",
    "\n",
    "Create lag features: Incorporate lagged values of the target variable as features to capture temporal dependencies, such as $y_{t-1}$ and $y_{t-2}$\n",
    "\n",
    "## Initializing the model\n",
    "\n",
    "$F_0(x) = argmin_{\\gamma} \\sum_{i=1}^{n} L(y_{i},\\gamma)$\n",
    "\n",
    "here, the $F_0(x)$ is the initial estimate, either the mean or median of the windspeed values\n",
    "\n",
    "L is the loss function, which measures the difference between the predicted and actual values.\n",
    "\n",
    "## Compute the residuals\n",
    "\n",
    "$r_{t} = y_{t} - F_{m-1} (x_{t})$\n",
    "\n",
    "residuals can be computed by subtracting the predicted value from the actual target variable at time t\n",
    "\n",
    "## Training with a weak learner model (Decision tree)\n",
    "\n",
    "Train a weak learner to predict the residuals $r_t$ using features X it is done to predict the residuals of the current ensemble model\n",
    "\n",
    "if $F_{m-1}(x_{t})$ is the current ensemble model at iteration m-1 the residuals $r_{t}$ is computed by \n",
    "\n",
    "$r_t= y_t - F_{m-1}(x_{t})$\n",
    "\n",
    "residuals at time t which represent the difference between the actual target variable $y_t$ and the prediction from the current ensemble model $F_{m-1}(x_{t})$\n",
    "\n",
    "$y_t$ is the actual target variable at time t\n",
    "\n",
    "The prediction from the current ensemble model at iteration m-1 at features $x_t$ at time t\n",
    "\n",
    "\n",
    "\n",
    "## Updating the model\n",
    "\n",
    "The predictions from the weak learner model $h_m(x_t)$ is added to the current model it is scaled by learning rate $\\gamma_m$\n",
    "\n",
    "$F_m(x_t) = F_m-1(x_t)+\\gamma_m h_m(x_t)$\n",
    "\n",
    "The updated model $F_m(x_t)$ is now the ensemble model at iteration m that better captures the target variable's patterns.\n",
    "\n",
    "\n",
    "$F_m(x_t)$ The updated ensemble model at iteration m for the features $x_t$ at time t\n",
    "\n",
    "$F_m-1(x_t)$  The ensemble model from the previous iteration (m−1) for the features $x_t$ at time t.\n",
    "\n",
    "$\\gamma_m$ The learning rate for the weak learner at iteration m\n",
    "\n",
    "$h_m(x_t)$ The prediction from the weak learner at iteration m for the features $x_t$ at time t\n",
    "\n",
    "\n",
    "\n",
    "## Final model\n",
    "\n",
    "After M iterations, where M is the predefined number of weak learners, the final model is the sum of all the weak learners contributions\n",
    "\n",
    "$F(x_t) = F_0(x_t) + \\gamma_1 h_1(x_t) + \\gamma_2 h_2(x_t)+.... \\gamma_M h_M(x_t)$\n",
    "\n",
    "here, $F(x_t)$ represents the final ensemble model's prediction at time t\n",
    "\n",
    "$F_0(x_t)$ is the initial model or the starting point (mean of the windspeed)\n",
    "\n",
    "$\\gamma_1, \\gamma_2, \\gamma_M$ are the step sizes for each weak learner\n",
    "\n",
    "$h_1 (x_t),  h_2(x_t), h_M(x_t) $ are the predictions from each weak learner."
   ]
  },
  {
   "cell_type": "code",
   "execution_count": null,
   "id": "3f7b87d9",
   "metadata": {},
   "outputs": [],
   "source": []
  },
  {
   "cell_type": "code",
   "execution_count": null,
   "id": "acb35637",
   "metadata": {},
   "outputs": [],
   "source": []
  },
  {
   "cell_type": "code",
   "execution_count": null,
   "id": "a86ab2a0",
   "metadata": {},
   "outputs": [],
   "source": []
  }
 ],
 "metadata": {
  "kernelspec": {
   "display_name": "Python 3 (ipykernel)",
   "language": "python",
   "name": "python3"
  },
  "language_info": {
   "codemirror_mode": {
    "name": "ipython",
    "version": 3
   },
   "file_extension": ".py",
   "mimetype": "text/x-python",
   "name": "python",
   "nbconvert_exporter": "python",
   "pygments_lexer": "ipython3",
   "version": "3.9.13"
  }
 },
 "nbformat": 4,
 "nbformat_minor": 5
}
