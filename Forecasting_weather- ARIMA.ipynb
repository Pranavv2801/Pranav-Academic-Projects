{
 "cells": [
  {
   "cell_type": "markdown",
   "id": "5a65a788",
   "metadata": {},
   "source": [
    "# Forecasting Weather using Auto Regression and Moving Average model (ARIMA)"
   ]
  },
  {
   "cell_type": "markdown",
   "id": "a636b2d6",
   "metadata": {},
   "source": [
    "## PRANAV THIAGARAJAN UMAPATHY \n",
    "## Student ID- 220366757"
   ]
  },
  {
   "cell_type": "markdown",
   "id": "0cfee8f5",
   "metadata": {},
   "source": [
    "### Importing required packages"
   ]
  },
  {
   "cell_type": "code",
   "execution_count": null,
   "id": "83bb4bd9",
   "metadata": {},
   "outputs": [],
   "source": [
    "import math\n",
    "import pandas as pd\n",
    "import numpy as np\n",
    "from sklearn.model_selection import train_test_split\n",
    "import matplotlib.pyplot as plt\n",
    "import scipy.io\n",
    "import seaborn as sns\n",
    "sns.set_style(\"darkgrid\")\n",
    "from statsmodels.tsa.stattools import adfuller\n",
    "from statsmodels.graphics.tsaplots import plot_acf, plot_pacf\n",
    "import warnings\n",
    "warnings.filterwarnings('ignore')\n",
    "import statsmodels.tsa.arima.model\n",
    "from statsmodels.tsa.arima_model import ARIMA\n",
    "import pmdarima as pm\n",
    "from pmdarima.arima import auto_arima\n",
    "from sklearn.metrics import mean_squared_error, mean_absolute_error"
   ]
  },
  {
   "cell_type": "code",
   "execution_count": null,
   "id": "71b45ddc",
   "metadata": {},
   "outputs": [],
   "source": [
    "#Reading the CSV file into a Pandas DataFrame\n",
    "weather_data = pd.read_csv(\"weather_dt.csv\")\n",
    "\n",
    "#Printing the DataFrame\n",
    "print(weather_data.head())"
   ]
  },
  {
   "cell_type": "code",
   "execution_count": null,
   "id": "f4fca5e6",
   "metadata": {},
   "outputs": [],
   "source": [
    "#Creating new df with windspeed and datetime columns\n",
    "wind_df = weather_data[['datetime', 'windspeed']].copy()\n",
    "\n",
    "#printing the first few rows of the DataFrame\n",
    "print(wind_df.head())"
   ]
  },
  {
   "cell_type": "code",
   "execution_count": null,
   "id": "5e418e51",
   "metadata": {},
   "outputs": [],
   "source": [
    "#formatting datetime column\n",
    "wind_df[\"datetime\"] = pd.to_datetime(wind_df[\"datetime\"], format='%Y-%m-%d')"
   ]
  },
  {
   "cell_type": "code",
   "execution_count": null,
   "id": "e6054ea3",
   "metadata": {},
   "outputs": [],
   "source": [
    "#Filter the data for required time period\n",
    "start_date = pd.to_datetime(\"2021-10-01\")\n",
    "end_date = pd.to_datetime(\"2023-09-30\")\n",
    "filtered_data = wind_df[(wind_df[\"datetime\"] >= start_date) & (wind_df[\"datetime\"] <= end_date)]"
   ]
  },
  {
   "cell_type": "code",
   "execution_count": null,
   "id": "8d2093a2",
   "metadata": {},
   "outputs": [],
   "source": [
    "#Convert the 'datetime' column to datetime format\n",
    "filtered_data['datetime'] = pd.to_datetime(filtered_data['datetime'])"
   ]
  },
  {
   "cell_type": "code",
   "execution_count": null,
   "id": "5a35f5b7",
   "metadata": {},
   "outputs": [],
   "source": [
    "#Calculate rolling mean and standard deviation\n",
    "rolling_mean = filtered_data['windspeed'].rolling(window=30).mean()  # Adjust window size as needed\n",
    "rolling_std = filtered_data['windspeed'].rolling(window=30).std()    # Adjust window size as needed\n",
    "\n",
    "#Plot the original time series, rolling mean, and rolling standard deviation\n",
    "plt.figure(figsize=(12, 6))\n",
    "plt.plot(filtered_data['windspeed'], label='Original Time Series')\n",
    "plt.plot(rolling_mean, label='Rolling Mean', color='red')\n",
    "plt.plot(rolling_std, label='Rolling Std Dev', color='green')\n",
    "\n",
    "plt.title('Time Series with Rolling Mean and Standard Deviation')\n",
    "plt.xlabel('Datetime')\n",
    "plt.ylabel('Windspeed')\n",
    "plt.legend()\n",
    "plt.show()"
   ]
  },
  {
   "cell_type": "code",
   "execution_count": null,
   "id": "07f17388",
   "metadata": {},
   "outputs": [],
   "source": [
    "#Plotting a time series plot\n",
    "time_series = filtered_data.set_index('datetime')['windspeed']\n",
    "\n",
    "#Plot the original time series and the forecast\n",
    "plt.figure(figsize=(12, 6))\n",
    "plt.plot(time_series, label='Original Time Series')\n",
    "# plt.title('Time Series Plot')\n",
    "plt.xlabel('Datetime')\n",
    "plt.ylabel('Windspeed')\n",
    "plt.legend()\n",
    "plt.show()"
   ]
  },
  {
   "cell_type": "code",
   "execution_count": null,
   "id": "0ce00ad5",
   "metadata": {},
   "outputs": [],
   "source": [
    "#Assume 'windspeed' is the target variable\n",
    "X = filtered_data[['datetime']]\n",
    "y = filtered_data['windspeed']\n",
    "\n",
    "#Split the data into training and testing sets (80% train, 20% test)\n",
    "X_train, X_test, y_train, y_test = train_test_split(X, y, test_size=0.2, random_state=42, shuffle=False)\n",
    "\n",
    "#Display the shapes of the resulting sets\n",
    "print(f\"Train set shape: X_train={X_train.shape}, y_train={y_train.shape}\")\n",
    "print(f\"Test set shape: X_test={X_test.shape}, y_test={y_test.shape}\")\n",
    "\n",
    "#Sort the training and testing sets based on 'datetime'\n",
    "X_train = X_train.sort_values(by='datetime')\n",
    "y_train = y_train.loc[X_train.index]\n",
    "\n",
    "X_test = X_test.sort_values(by='datetime')\n",
    "y_test = y_test.loc[X_test.index]"
   ]
  },
  {
   "cell_type": "code",
   "execution_count": null,
   "id": "bceb2bbf",
   "metadata": {},
   "outputs": [],
   "source": [
    "#Plotting the training set\n",
    "plt.figure(figsize=(12, 6))\n",
    "plt.plot(X_train, y_train, label='Training Set', color='blue')\n",
    "# plt.title('Time Series Plot - Training Set')\n",
    "plt.xlabel('Datetime')\n",
    "plt.ylabel('Windspeed')\n",
    "plt.xticks(rotation=50)\n",
    "plt.legend()\n",
    "plt.show()\n",
    "\n",
    "#Plotting the testing set\n",
    "plt.figure(figsize=(12, 6))\n",
    "plt.plot(X_test, y_test, label='Testing Set', color='green')\n",
    "# plt.title('Time Series Plot - Testing Set')\n",
    "plt.xlabel('Datetime')\n",
    "plt.ylabel('Windspeed')\n",
    "plt.xticks(rotation=50) \n",
    "plt.legend()\n",
    "plt.show()"
   ]
  },
  {
   "cell_type": "code",
   "execution_count": null,
   "id": "ae9c7774",
   "metadata": {},
   "outputs": [],
   "source": [
    "#Plot ACF\n",
    "plt.figure(figsize=(12, 6))\n",
    "plot_acf(y_train, lags=40, ax=plt.gca())\n",
    "plt.show()\n",
    "\n",
    "#Plot PACF\n",
    "plt.figure(figsize=(12, 6))\n",
    "plot_pacf(y_train, lags=40, ax=plt.gca())\n",
    "plt.show()"
   ]
  },
  {
   "cell_type": "code",
   "execution_count": null,
   "id": "33659a60",
   "metadata": {
    "scrolled": true
   },
   "outputs": [],
   "source": [
    "#Performing the ADF test on the training set\n",
    "result = adfuller(y_train)\n",
    "\n",
    "# Extract and print the results\n",
    "adf_statistic = result[0]\n",
    "p_value = result[1]\n",
    "critical_values = result[4]\n",
    "\n",
    "print(f'ADF Statistic: {adf_statistic}')\n",
    "print(f'p-value: {p_value}')\n",
    "print('Critical Values:')\n",
    "for key, value in critical_values.items():\n",
    "    print(f'   {key}: {value}')"
   ]
  },
  {
   "cell_type": "code",
   "execution_count": null,
   "id": "e2b5a700",
   "metadata": {},
   "outputs": [],
   "source": [
    "#Fitting an ARIMA model\n",
    "order = (2, 0, 2)\n",
    "model = ARIMA(y_train, order=order)\n",
    "fit_model = model.fit()\n",
    "\n",
    "#Display model summary\n",
    "print(fit_model.summary())"
   ]
  },
  {
   "cell_type": "code",
   "execution_count": null,
   "id": "51875477",
   "metadata": {},
   "outputs": [],
   "source": [
    "#Fit the ARIMA(2, 0, 2) model on the training set\n",
    "order = (2, 0, 2)\n",
    "model = ARIMA(y_train, order=order)\n",
    "fit_model = model.fit()\n",
    "\n",
    "#Plot the residuals diagnostics\n",
    "fit_model.plot_diagnostics(figsize=(12, 8))\n",
    "plt.show()"
   ]
  },
  {
   "cell_type": "code",
   "execution_count": null,
   "id": "ef16234f",
   "metadata": {},
   "outputs": [],
   "source": [
    "residuals = fit_model.resid\n",
    "plt.figure(figsize=(12, 6))\n",
    "plt.plot(residuals)\n",
    "# plt.title('Residuals Plot')\n",
    "plt.xlabel('Time')\n",
    "plt.ylabel('Residuals')\n",
    "plt.show()"
   ]
  },
  {
   "cell_type": "code",
   "execution_count": null,
   "id": "959a7c39",
   "metadata": {},
   "outputs": [],
   "source": [
    "#Get residuals from the fitted model\n",
    "residuals = fit_model.resid\n",
    "\n",
    "#Plot the density of residuals\n",
    "plt.figure(figsize=(12, 6))\n",
    "sns.histplot(residuals, kde=True, color='blue')\n",
    "plt.title('Density Plot of Residuals')\n",
    "plt.xlabel('Residuals')\n",
    "plt.ylabel('Density')\n",
    "plt.show()"
   ]
  },
  {
   "cell_type": "code",
   "execution_count": null,
   "id": "e7a338c9",
   "metadata": {},
   "outputs": [],
   "source": [
    "#Fit the ARIMA(2, 0, 2) model on the training set\n",
    "order = (2, 0, 2)\n",
    "model = ARIMA(y_train, order=order)\n",
    "fit_model = model.fit()\n",
    "\n",
    "#Get the residuals\n",
    "residuals = fit_model.resid\n",
    "\n",
    "#Plot ACF of residuals\n",
    "plt.figure(figsize=(12, 6))\n",
    "plot_acf(residuals, lags=50, ax=plt.gca())\n",
    "plt.title('Autocorrelation Function (ACF) of Residuals')\n",
    "plt.show()\n",
    "\n",
    "#Plot PACF of residuals\n",
    "plt.figure(figsize=(12, 6))\n",
    "plot_pacf(residuals, lags=50, ax=plt.gca())\n",
    "plt.title('Partial Autocorrelation Function (PACF) of Residuals')\n",
    "plt.show()"
   ]
  },
  {
   "cell_type": "markdown",
   "id": "d2ee8e82",
   "metadata": {},
   "source": [
    "### Forecasting"
   ]
  },
  {
   "cell_type": "code",
   "execution_count": null,
   "id": "e5b9cf0d",
   "metadata": {},
   "outputs": [],
   "source": [
    "#Fit the ARIMA(2, 0, 2) model on the training set\n",
    "order = (2, 0, 0)\n",
    "model = ARIMA(y_train, order=order)\n",
    "fit_model = model.fit()\n",
    "\n",
    "#Get the forecast for the test set\n",
    "forecast_steps = len(y_test)\n",
    "forecast = fit_model.get_forecast(steps=forecast_steps)\n",
    "\n",
    "#Extract the predicted values and confidence intervals\n",
    "predicted_values = forecast.predicted_mean\n",
    "confidence_intervals = forecast.conf_int()\n",
    "\n",
    "#Plot the actual vs predicted values\n",
    "plt.figure(figsize=(12, 6))\n",
    "plt.plot(X_train, y_train, label='Training Data')\n",
    "plt.plot(X_test, y_test, label='Actual Test Data', color='orange')\n",
    "plt.plot(X_test, predicted_values, label='ARIMA(2, 0, 2) Predictions(Mean)', color='green')\n",
    "\n",
    "#Fill the area between the confidence intervals\n",
    "plt.fill_between(X_test['datetime'], confidence_intervals.iloc[:, 0], confidence_intervals.iloc[:, 1], color='green', alpha=0.2)\n",
    "\n",
    "plt.title('ARIMA Model - Actual vs Predicted')\n",
    "plt.xlabel('Datetime')\n",
    "plt.ylabel('Windspeed')\n",
    "plt.legend()\n",
    "plt.show()"
   ]
  },
  {
   "cell_type": "markdown",
   "id": "9f180f9a",
   "metadata": {},
   "source": [
    "### 1-step ahead forecast"
   ]
  },
  {
   "cell_type": "code",
   "execution_count": null,
   "id": "88898b3f",
   "metadata": {},
   "outputs": [],
   "source": [
    "#Perform 1-step ahead forecast\n",
    "forecast_1_step = fit_model.get_forecast(steps=1)\n",
    "predicted_values_1_step = forecast_1_step.predicted_mean\n",
    "confidence_intervals_1_step = forecast_1_step.conf_int()\n",
    "\n",
    "#Plot the actual vs predicted values with 1-step ahead forecast\n",
    "plt.figure(figsize=(12, 6))\n",
    "plt.plot(X_test, y_test, label='Actual Test Data', color='orange')\n",
    "plt.plot(X_test, predicted_values, label='ARIMA(2, 0, 2) Predictions', color='green')\n",
    "\n",
    "#1-step ahead forecast\n",
    "plt.plot(X_test.iloc[0], predicted_values_1_step.iloc[0], marker='o', markersize=8, color='red', label='1-Step Ahead Forecast')\n",
    "\n",
    "#Fill the area between the confidence intervals for 1-step ahead forecast\n",
    "plt.fill_between(X_test.iloc[0], confidence_intervals_1_step.iloc[0, 0], confidence_intervals_1_step.iloc[0, 1], color='red', alpha=0.2)\n",
    "\n",
    "plt.title('ARIMA Model - Actual vs Predicted with 1-step ahead forecast')\n",
    "plt.xlabel('Datetime')\n",
    "plt.ylabel('Windspeed')\n",
    "plt.legend()\n",
    "plt.show()"
   ]
  },
  {
   "cell_type": "markdown",
   "id": "8f99e7e2",
   "metadata": {},
   "source": [
    "### 2-step ahead forecast"
   ]
  },
  {
   "cell_type": "code",
   "execution_count": null,
   "id": "3fd39a10",
   "metadata": {},
   "outputs": [],
   "source": [
    "#Perform 2-step ahead forecast\n",
    "forecast_2_step = fit_model.get_forecast(steps=2)\n",
    "predicted_values_2_step = forecast_2_step.predicted_mean\n",
    "confidence_intervals_2_step = forecast_2_step.conf_int()\n",
    "\n",
    "#Plot the actual vs predicted values with 2-step ahead forecast\n",
    "plt.figure(figsize=(12, 6))\n",
    "# plt.plot(X_train, y_train, label='Training Data')\n",
    "plt.plot(X_test, y_test, label='Actual Test Data', color='orange')\n",
    "plt.plot(X_test, predicted_values, label='ARIMA(2, 0, 2) Predictions', color='green')\n",
    "\n",
    "#2-step ahead forecast\n",
    "plt.plot(X_test.iloc[:2], predicted_values_2_step, marker='o', markersize=8, color='blue', label='2-Step Ahead Forecast')\n",
    "\n",
    "#Fill the area between the confidence intervals for 2-step ahead forecast\n",
    "plt.fill_between(X_test.iloc[:2]['datetime'], confidence_intervals_2_step.iloc[:, 0], confidence_intervals_2_step.iloc[:, 1], color='blue', alpha=0.2)\n",
    "\n",
    "plt.title('ARIMA Model - Actual vs Predicted with 2-step ahead forecasts')\n",
    "plt.xlabel('Datetime')\n",
    "plt.ylabel('Windspeed')\n",
    "plt.legend()\n",
    "plt.show()"
   ]
  },
  {
   "cell_type": "markdown",
   "id": "6e56c5c6",
   "metadata": {},
   "source": [
    "### Model Evaluation"
   ]
  },
  {
   "cell_type": "code",
   "execution_count": null,
   "id": "7c7a0265",
   "metadata": {
    "scrolled": true
   },
   "outputs": [],
   "source": [
    "# Calculate RMSE\n",
    "rmse = np.sqrt(mean_squared_error(y_test, predicted_values))\n",
    "print(f'Root Mean Squared Error (RMSE): {rmse}')\n",
    "\n",
    "# Calculate MSE\n",
    "mse = mean_squared_error(y_test, predicted_values)\n",
    "print(f'Mean Squared Error (MSE): {mse}')\n",
    "\n",
    "# Calculate MAE\n",
    "mae = mean_absolute_error(y_test, predicted_values)\n",
    "print(f'Mean Absolute Error (MAE): {mae}')"
   ]
  }
 ],
 "metadata": {
  "kernelspec": {
   "display_name": "Python 3 (ipykernel)",
   "language": "python",
   "name": "python3"
  },
  "language_info": {
   "codemirror_mode": {
    "name": "ipython",
    "version": 3
   },
   "file_extension": ".py",
   "mimetype": "text/x-python",
   "name": "python",
   "nbconvert_exporter": "python",
   "pygments_lexer": "ipython3",
   "version": "3.9.13"
  }
 },
 "nbformat": 4,
 "nbformat_minor": 5
}
